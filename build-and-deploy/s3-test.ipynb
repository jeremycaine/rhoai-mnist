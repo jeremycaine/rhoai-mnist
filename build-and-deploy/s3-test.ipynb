{
 "cells": [
  {
   "cell_type": "code",
   "execution_count": 1,
   "id": "6d194fcc-0ee8-4e54-9a26-7fba5fe4725b",
   "metadata": {},
   "outputs": [
    {
     "name": "stdout",
     "output_type": "stream",
     "text": [
      "File contents:\n",
      " ** hello OpenShift AI\n"
     ]
    }
   ],
   "source": [
    "import os, io, botocore\n",
    "import boto3\n",
    "\n",
    "# Read from environment\n",
    "endpoint = os.getenv(\"AWS_S3_ENDPOINT\")\n",
    "bucket = os.getenv(\"AWS_S3_BUCKET\")\n",
    "access_key = os.getenv(\"AWS_ACCESS_KEY_ID\")\n",
    "secret_key = os.getenv(\"AWS_SECRET_ACCESS_KEY\")\n",
    "region = os.getenv(\"AWS_DEFAULT_REGION\", \"us-east-1\")\n",
    "READ_FILE = \"data/hello.txt\"\n",
    "\n",
    "# Create an S3 client compatible with MinIO\n",
    "s3 = boto3.client(\n",
    "    \"s3\",\n",
    "    endpoint_url=endpoint,\n",
    "    aws_access_key_id=access_key,\n",
    "    aws_secret_access_key=secret_key,\n",
    "    region_name=region,\n",
    ")\n",
    "\n",
    "\n",
    "# ---- Read file ----\n",
    "try:\n",
    "    obj = s3.get_object(Bucket=bucket, Key=READ_FILE)\n",
    "    data = obj[\"Body\"].read().decode(\"utf-8\")\n",
    "    print(\"File contents:\\n\", data)\n",
    "except s3.exceptions.NoSuchKey:\n",
    "    print(f\"Object not found: s3://{bucket}/{READ_FILE}\")\n",
    "except botocore.exceptions.ClientError as e:\n",
    "    print(\"S3 error:\", e)"
   ]
  },
  {
   "cell_type": "code",
   "execution_count": null,
   "id": "30dd2dd4-282f-4cd8-922e-093ea92dbe72",
   "metadata": {},
   "outputs": [],
   "source": []
  }
 ],
 "metadata": {
  "kernelspec": {
   "display_name": "Python 3.12",
   "language": "python",
   "name": "python3"
  },
  "language_info": {
   "codemirror_mode": {
    "name": "ipython",
    "version": 3
   },
   "file_extension": ".py",
   "mimetype": "text/x-python",
   "name": "python",
   "nbconvert_exporter": "python",
   "pygments_lexer": "ipython3",
   "version": "3.12.9"
  }
 },
 "nbformat": 4,
 "nbformat_minor": 5
}
