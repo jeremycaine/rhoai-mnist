{
 "cells": [
  {
   "cell_type": "code",
   "execution_count": 1,
   "id": "e1c3c0a4-77fd-40e8-b3fc-59d7f3724cd3",
   "metadata": {},
   "outputs": [
    {
     "name": "stdout",
     "output_type": "stream",
     "text": [
      "download test data from S3 into temp file:  /tmp/tmpjqkziusx\n",
      "Got test csv file: /tmp/tmpjqkziusx\n",
      "download train data from S3 into temp file:  /tmp/tmp3h84i448\n",
      "Got train csv file: /tmp/tmp3h84i448\n"
     ]
    }
   ],
   "source": [
    "import os, io, botocore\n",
    "import boto3\n",
    "\n",
    "TRAIN_CSV = \"data/mnist_train.csv\"\n",
    "TEST_CSV = \"data/mnist_test.csv\"\n",
    "\n",
    "# Read from environment\n",
    "endpoint = os.getenv(\"AWS_S3_ENDPOINT\")\n",
    "bucket = os.getenv(\"AWS_S3_BUCKET\")\n",
    "access_key = os.getenv(\"AWS_ACCESS_KEY_ID\")\n",
    "secret_key = os.getenv(\"AWS_SECRET_ACCESS_KEY\")\n",
    "region = os.getenv(\"AWS_DEFAULT_REGION\", \"us-east-1\")\n",
    "\n",
    "# Create an S3 client compatible with MinIO\n",
    "s3 = boto3.client(\n",
    "    \"s3\",\n",
    "    endpoint_url=endpoint,\n",
    "    aws_access_key_id=access_key,\n",
    "    aws_secret_access_key=secret_key,\n",
    "    region_name=region,\n",
    ")\n",
    "\n",
    "# Optional: avoid the ?location call causing you trouble by telling boto3 the region upfront (done above)\n",
    "# and not using bucket location lookups.\n",
    "\n",
    "import tempfile\n",
    "import pathlib\n",
    "\n",
    "try:\n",
    "    with tempfile.NamedTemporaryFile(delete=False) as f:\n",
    "        # Get the pathlib.Path object\n",
    "        print(\"download test data from S3 into temp file: \", f.name)\n",
    "        test_path = pathlib.Path(f.name)\n",
    "        # Pass the open file object\n",
    "        s3.download_fileobj(bucket, TEST_CSV, f)\n",
    "\n",
    "        # Flush to ensure data is written\n",
    "        f.flush()\n",
    "\n",
    "        print(\"Got test csv file:\", test_path)\n",
    "\n",
    "    with tempfile.NamedTemporaryFile(delete=False) as f:\n",
    "        # Get the pathlib.Path object\n",
    "        print(\"download train data from S3 into temp file: \", f.name)\n",
    "        train_path = pathlib.Path(f.name)\n",
    "        # Pass the open file object\n",
    "        s3.download_fileobj(bucket, TEST_CSV, f)\n",
    "\n",
    "        # Flush to ensure data is written\n",
    "        f.flush()\n",
    "\n",
    "        print(\"Got train csv file:\", train_path)\n",
    "\n",
    "except s3.exceptions.NoSuchKey:\n",
    "    print(\"File not found\")\n",
    "except botocore.exceptions.ClientError as e:\n",
    "    print(\"S3 error:\", e)"
   ]
  },
  {
   "cell_type": "code",
   "execution_count": 2,
   "id": "1f163322-a056-42f7-82a4-4a2b8e4d540c",
   "metadata": {},
   "outputs": [
    {
     "name": "stderr",
     "output_type": "stream",
     "text": [
      "2025-10-10 06:06:55.654658: E external/local_xla/xla/stream_executor/cuda/cuda_fft.cc:467] Unable to register cuFFT factory: Attempting to register factory for plugin cuFFT when one has already been registered\n",
      "WARNING: All log messages before absl::InitializeLog() is called are written to STDERR\n",
      "E0000 00:00:1760076415.998767     314 cuda_dnn.cc:8579] Unable to register cuDNN factory: Attempting to register factory for plugin cuDNN when one has already been registered\n",
      "E0000 00:00:1760076416.050523     314 cuda_blas.cc:1407] Unable to register cuBLAS factory: Attempting to register factory for plugin cuBLAS when one has already been registered\n",
      "W0000 00:00:1760076416.916717     314 computation_placer.cc:177] computation placer already registered. Please check linkage and avoid linking the same target more than once.\n",
      "W0000 00:00:1760076416.916749     314 computation_placer.cc:177] computation placer already registered. Please check linkage and avoid linking the same target more than once.\n",
      "W0000 00:00:1760076416.916753     314 computation_placer.cc:177] computation placer already registered. Please check linkage and avoid linking the same target more than once.\n",
      "W0000 00:00:1760076416.916756     314 computation_placer.cc:177] computation placer already registered. Please check linkage and avoid linking the same target more than once.\n",
      "2025-10-10 06:06:56.935716: I tensorflow/core/platform/cpu_feature_guard.cc:210] This TensorFlow binary is optimized to use available CPU instructions in performance-critical operations.\n",
      "To enable the following instructions: AVX2 AVX512F FMA, in other operations, rebuild TensorFlow with the appropriate compiler flags.\n"
     ]
    },
    {
     "name": "stdout",
     "output_type": "stream",
     "text": [
      "\n",
      "Train features shape: (10000, 28, 28, 1)\n",
      "Train labels shape:   (10000,)\n",
      "Unique labels: [0 1 2 3 4 5 6 7 8 9]\n",
      "\n",
      "Test features shape: (10000, 28, 28, 1)\n",
      "Test labels shape:    (10000,)\n",
      "Unique labels: [0 1 2 3 4 5 6 7 8 9]\n",
      "\n",
      "Sample feature array (first image, flattened 10 pixels):\n",
      " [0. 0. 0. 0. 0. 0. 0. 0. 0. 0.]\n",
      "\n",
      "Sample label for first image: 7\n"
     ]
    }
   ],
   "source": [
    "import pandas as pd\n",
    "import numpy as np\n",
    "import tensorflow as tf\n",
    "\n",
    "# Read CSV with header row\n",
    "train_df = pd.read_csv(train_path)   # header inferred automatically\n",
    "test_df = pd.read_csv(test_path)\n",
    "\n",
    "# Separate label and pixel columns\n",
    "train_labels = train_df[\"label\"].astype(np.int32).values\n",
    "train_features = train_df.drop(columns=[\"label\"]).astype(np.float32).values\n",
    "\n",
    "test_labels = test_df[\"label\"].astype(np.int32).values\n",
    "test_features = test_df.drop(columns=[\"label\"]).astype(np.float32).values\n",
    "\n",
    "# Reshape and normalize\n",
    "train_features = train_features.reshape((-1, 28, 28, 1)) / 255.0\n",
    "test_features = test_features.reshape((-1, 28, 28, 1)) / 255.0\n",
    "\n",
    "# --- Check data integrity\n",
    "print(\"\\nTrain features shape:\", train_features.shape)\n",
    "print(\"Train labels shape:  \", train_labels.shape)\n",
    "print(\"Unique labels:\", np.unique(train_labels))\n",
    "\n",
    "print(\"\\nTest features shape:\", test_features.shape)\n",
    "print(\"Test labels shape:   \", test_labels.shape)\n",
    "print(\"Unique labels:\", np.unique(test_labels))\n",
    "\n",
    "# Show first few feature samples (flattened)\n",
    "print(\"\\nSample feature array (first image, flattened 10 pixels):\\n\", train_features[0].flatten()[:10])\n",
    "print(\"\\nSample label for first image:\", train_labels[0])"
   ]
  },
  {
   "cell_type": "code",
   "execution_count": 3,
   "id": "7f3ba8d4-3ba4-417c-b1d5-bd70e4859a1d",
   "metadata": {},
   "outputs": [
    {
     "name": "stdout",
     "output_type": "stream",
     "text": [
      "building model\n",
      "compile model\n"
     ]
    },
    {
     "name": "stderr",
     "output_type": "stream",
     "text": [
      "/opt/app-root/lib64/python3.12/site-packages/keras/src/layers/convolutional/base_conv.py:113: UserWarning: Do not pass an `input_shape`/`input_dim` argument to a layer. When using Sequential models, prefer using an `Input(shape)` object as the first layer in the model instead.\n",
      "  super().__init__(activity_regularizer=activity_regularizer, **kwargs)\n",
      "2025-10-10 06:07:15.350649: E external/local_xla/xla/stream_executor/cuda/cuda_platform.cc:51] failed call to cuInit: INTERNAL: CUDA error: Failed call to cuInit: UNKNOWN ERROR (303)\n"
     ]
    },
    {
     "data": {
      "text/html": [
       "<pre style=\"white-space:pre;overflow-x:auto;line-height:normal;font-family:Menlo,'DejaVu Sans Mono',consolas,'Courier New',monospace\"><span style=\"font-weight: bold\">Model: \"sequential\"</span>\n",
       "</pre>\n"
      ],
      "text/plain": [
       "\u001b[1mModel: \"sequential\"\u001b[0m\n"
      ]
     },
     "metadata": {},
     "output_type": "display_data"
    },
    {
     "data": {
      "text/html": [
       "<pre style=\"white-space:pre;overflow-x:auto;line-height:normal;font-family:Menlo,'DejaVu Sans Mono',consolas,'Courier New',monospace\">┏━━━━━━━━━━━━━━━━━━━━━━━━━━━━━━━━━┳━━━━━━━━━━━━━━━━━━━━━━━━┳━━━━━━━━━━━━━━━┓\n",
       "┃<span style=\"font-weight: bold\"> Layer (type)                    </span>┃<span style=\"font-weight: bold\"> Output Shape           </span>┃<span style=\"font-weight: bold\">       Param # </span>┃\n",
       "┡━━━━━━━━━━━━━━━━━━━━━━━━━━━━━━━━━╇━━━━━━━━━━━━━━━━━━━━━━━━╇━━━━━━━━━━━━━━━┩\n",
       "│ conv2d (<span style=\"color: #0087ff; text-decoration-color: #0087ff\">Conv2D</span>)                 │ (<span style=\"color: #00d7ff; text-decoration-color: #00d7ff\">None</span>, <span style=\"color: #00af00; text-decoration-color: #00af00\">26</span>, <span style=\"color: #00af00; text-decoration-color: #00af00\">26</span>, <span style=\"color: #00af00; text-decoration-color: #00af00\">32</span>)     │           <span style=\"color: #00af00; text-decoration-color: #00af00\">320</span> │\n",
       "├─────────────────────────────────┼────────────────────────┼───────────────┤\n",
       "│ max_pooling2d (<span style=\"color: #0087ff; text-decoration-color: #0087ff\">MaxPooling2D</span>)    │ (<span style=\"color: #00d7ff; text-decoration-color: #00d7ff\">None</span>, <span style=\"color: #00af00; text-decoration-color: #00af00\">13</span>, <span style=\"color: #00af00; text-decoration-color: #00af00\">13</span>, <span style=\"color: #00af00; text-decoration-color: #00af00\">32</span>)     │             <span style=\"color: #00af00; text-decoration-color: #00af00\">0</span> │\n",
       "├─────────────────────────────────┼────────────────────────┼───────────────┤\n",
       "│ flatten (<span style=\"color: #0087ff; text-decoration-color: #0087ff\">Flatten</span>)               │ (<span style=\"color: #00d7ff; text-decoration-color: #00d7ff\">None</span>, <span style=\"color: #00af00; text-decoration-color: #00af00\">5408</span>)           │             <span style=\"color: #00af00; text-decoration-color: #00af00\">0</span> │\n",
       "├─────────────────────────────────┼────────────────────────┼───────────────┤\n",
       "│ dense (<span style=\"color: #0087ff; text-decoration-color: #0087ff\">Dense</span>)                   │ (<span style=\"color: #00d7ff; text-decoration-color: #00d7ff\">None</span>, <span style=\"color: #00af00; text-decoration-color: #00af00\">64</span>)             │       <span style=\"color: #00af00; text-decoration-color: #00af00\">346,176</span> │\n",
       "├─────────────────────────────────┼────────────────────────┼───────────────┤\n",
       "│ dropout (<span style=\"color: #0087ff; text-decoration-color: #0087ff\">Dropout</span>)               │ (<span style=\"color: #00d7ff; text-decoration-color: #00d7ff\">None</span>, <span style=\"color: #00af00; text-decoration-color: #00af00\">64</span>)             │             <span style=\"color: #00af00; text-decoration-color: #00af00\">0</span> │\n",
       "├─────────────────────────────────┼────────────────────────┼───────────────┤\n",
       "│ dense_1 (<span style=\"color: #0087ff; text-decoration-color: #0087ff\">Dense</span>)                 │ (<span style=\"color: #00d7ff; text-decoration-color: #00d7ff\">None</span>, <span style=\"color: #00af00; text-decoration-color: #00af00\">10</span>)             │           <span style=\"color: #00af00; text-decoration-color: #00af00\">650</span> │\n",
       "└─────────────────────────────────┴────────────────────────┴───────────────┘\n",
       "</pre>\n"
      ],
      "text/plain": [
       "┏━━━━━━━━━━━━━━━━━━━━━━━━━━━━━━━━━┳━━━━━━━━━━━━━━━━━━━━━━━━┳━━━━━━━━━━━━━━━┓\n",
       "┃\u001b[1m \u001b[0m\u001b[1mLayer (type)                   \u001b[0m\u001b[1m \u001b[0m┃\u001b[1m \u001b[0m\u001b[1mOutput Shape          \u001b[0m\u001b[1m \u001b[0m┃\u001b[1m \u001b[0m\u001b[1m      Param #\u001b[0m\u001b[1m \u001b[0m┃\n",
       "┡━━━━━━━━━━━━━━━━━━━━━━━━━━━━━━━━━╇━━━━━━━━━━━━━━━━━━━━━━━━╇━━━━━━━━━━━━━━━┩\n",
       "│ conv2d (\u001b[38;5;33mConv2D\u001b[0m)                 │ (\u001b[38;5;45mNone\u001b[0m, \u001b[38;5;34m26\u001b[0m, \u001b[38;5;34m26\u001b[0m, \u001b[38;5;34m32\u001b[0m)     │           \u001b[38;5;34m320\u001b[0m │\n",
       "├─────────────────────────────────┼────────────────────────┼───────────────┤\n",
       "│ max_pooling2d (\u001b[38;5;33mMaxPooling2D\u001b[0m)    │ (\u001b[38;5;45mNone\u001b[0m, \u001b[38;5;34m13\u001b[0m, \u001b[38;5;34m13\u001b[0m, \u001b[38;5;34m32\u001b[0m)     │             \u001b[38;5;34m0\u001b[0m │\n",
       "├─────────────────────────────────┼────────────────────────┼───────────────┤\n",
       "│ flatten (\u001b[38;5;33mFlatten\u001b[0m)               │ (\u001b[38;5;45mNone\u001b[0m, \u001b[38;5;34m5408\u001b[0m)           │             \u001b[38;5;34m0\u001b[0m │\n",
       "├─────────────────────────────────┼────────────────────────┼───────────────┤\n",
       "│ dense (\u001b[38;5;33mDense\u001b[0m)                   │ (\u001b[38;5;45mNone\u001b[0m, \u001b[38;5;34m64\u001b[0m)             │       \u001b[38;5;34m346,176\u001b[0m │\n",
       "├─────────────────────────────────┼────────────────────────┼───────────────┤\n",
       "│ dropout (\u001b[38;5;33mDropout\u001b[0m)               │ (\u001b[38;5;45mNone\u001b[0m, \u001b[38;5;34m64\u001b[0m)             │             \u001b[38;5;34m0\u001b[0m │\n",
       "├─────────────────────────────────┼────────────────────────┼───────────────┤\n",
       "│ dense_1 (\u001b[38;5;33mDense\u001b[0m)                 │ (\u001b[38;5;45mNone\u001b[0m, \u001b[38;5;34m10\u001b[0m)             │           \u001b[38;5;34m650\u001b[0m │\n",
       "└─────────────────────────────────┴────────────────────────┴───────────────┘\n"
      ]
     },
     "metadata": {},
     "output_type": "display_data"
    },
    {
     "data": {
      "text/html": [
       "<pre style=\"white-space:pre;overflow-x:auto;line-height:normal;font-family:Menlo,'DejaVu Sans Mono',consolas,'Courier New',monospace\"><span style=\"font-weight: bold\"> Total params: </span><span style=\"color: #00af00; text-decoration-color: #00af00\">347,146</span> (1.32 MB)\n",
       "</pre>\n"
      ],
      "text/plain": [
       "\u001b[1m Total params: \u001b[0m\u001b[38;5;34m347,146\u001b[0m (1.32 MB)\n"
      ]
     },
     "metadata": {},
     "output_type": "display_data"
    },
    {
     "data": {
      "text/html": [
       "<pre style=\"white-space:pre;overflow-x:auto;line-height:normal;font-family:Menlo,'DejaVu Sans Mono',consolas,'Courier New',monospace\"><span style=\"font-weight: bold\"> Trainable params: </span><span style=\"color: #00af00; text-decoration-color: #00af00\">347,146</span> (1.32 MB)\n",
       "</pre>\n"
      ],
      "text/plain": [
       "\u001b[1m Trainable params: \u001b[0m\u001b[38;5;34m347,146\u001b[0m (1.32 MB)\n"
      ]
     },
     "metadata": {},
     "output_type": "display_data"
    },
    {
     "data": {
      "text/html": [
       "<pre style=\"white-space:pre;overflow-x:auto;line-height:normal;font-family:Menlo,'DejaVu Sans Mono',consolas,'Courier New',monospace\"><span style=\"font-weight: bold\"> Non-trainable params: </span><span style=\"color: #00af00; text-decoration-color: #00af00\">0</span> (0.00 B)\n",
       "</pre>\n"
      ],
      "text/plain": [
       "\u001b[1m Non-trainable params: \u001b[0m\u001b[38;5;34m0\u001b[0m (0.00 B)\n"
      ]
     },
     "metadata": {},
     "output_type": "display_data"
    },
    {
     "name": "stdout",
     "output_type": "stream",
     "text": [
      "None\n",
      "Epoch 1/3\n",
      "\u001b[1m313/313\u001b[0m \u001b[32m━━━━━━━━━━━━━━━━━━━━\u001b[0m\u001b[37m\u001b[0m \u001b[1m8s\u001b[0m 24ms/step - accuracy: 0.8572 - loss: 0.4765\n",
      "Epoch 2/3\n",
      "\u001b[1m313/313\u001b[0m \u001b[32m━━━━━━━━━━━━━━━━━━━━\u001b[0m\u001b[37m\u001b[0m \u001b[1m7s\u001b[0m 23ms/step - accuracy: 0.9352 - loss: 0.2100\n",
      "Epoch 3/3\n",
      "\u001b[1m313/313\u001b[0m \u001b[32m━━━━━━━━━━━━━━━━━━━━\u001b[0m\u001b[37m\u001b[0m \u001b[1m7s\u001b[0m 23ms/step - accuracy: 0.9537 - loss: 0.1496\n",
      "\u001b[1m313/313\u001b[0m \u001b[32m━━━━━━━━━━━━━━━━━━━━\u001b[0m\u001b[37m\u001b[0m \u001b[1m2s\u001b[0m 7ms/step - accuracy: 0.9793 - loss: 0.0732\n"
     ]
    },
    {
     "data": {
      "text/plain": [
       "[0.07317521423101425, 0.9793000221252441]"
      ]
     },
     "execution_count": 3,
     "metadata": {},
     "output_type": "execute_result"
    }
   ],
   "source": [
    "# Build model\n",
    "print(\"building model\")\n",
    "model = tf.keras.models.Sequential()\n",
    "model.add(tf.keras.layers.Conv2D(32, (3,3), input_shape=(28,28,1)))\n",
    "model.add(tf.keras.layers.MaxPooling2D(pool_size=(2,2), strides=2))\n",
    "model.add(tf.keras.layers.Flatten())\n",
    "model.add(tf.keras.layers.Dense(64, activation='relu'))\n",
    "model.add(tf.keras.layers.Dropout(0.2))\n",
    "model.add(tf.keras.layers.Dense(10, activation='softmax'))\n",
    "\n",
    "print(\"compile model\")\n",
    "model.compile(optimizer='adam',\n",
    "              loss='sparse_categorical_crossentropy',\n",
    "              metrics=['accuracy'])\n",
    "\n",
    "print(model.summary())\n",
    "\n",
    "# Train and evaluate\n",
    "model.fit(train_features, train_labels, epochs=3, verbose=1)\n",
    "model.evaluate(test_features, test_labels)"
   ]
  },
  {
   "cell_type": "code",
   "execution_count": 11,
   "id": "2b1b320b-40bc-4fc3-93ad-d4ae588f92b2",
   "metadata": {},
   "outputs": [
    {
     "name": "stdout",
     "output_type": "stream",
     "text": [
      "✅ ONNX ready, size 1,391,691 bytes\n",
      "📤 Uploaded: s3://mnist-ml/models/mnist/model.onnx\n"
     ]
    },
    {
     "name": "stderr",
     "output_type": "stream",
     "text": [
      "I0000 00:00:1760082196.536422     314 devices.cc:67] Number of eligible GPUs (core count >= 8, compute capability >= 0.0): 0\n",
      "I0000 00:00:1760082196.536533     314 single_machine.cc:374] Starting new session\n",
      "I0000 00:00:1760082196.574635     314 devices.cc:67] Number of eligible GPUs (core count >= 8, compute capability >= 0.0): 0\n",
      "I0000 00:00:1760082196.574760     314 single_machine.cc:374] Starting new session\n"
     ]
    }
   ],
   "source": [
    "# Convert Keras model -> ONNX (robust across tf2onnx versions) and upload to MinIO/S3\n",
    "\n",
    "import os\n",
    "import tensorflow as tf\n",
    "import tf2onnx\n",
    "import boto3, botocore\n",
    "\n",
    "# Define serving function + signature\n",
    "INPUT_SIG = [tf.TensorSpec([None, 28, 28, 1], tf.float32, name=\"input\")]\n",
    "\n",
    "@tf.function(input_signature=INPUT_SIG)\n",
    "def serving_fn(x):\n",
    "    y = model(x, training=False)\n",
    "    return {\"probabilities\": y}   # name your output\n",
    "\n",
    "# Convert to ONNX (try API variant that your tf2onnx supports)\n",
    "proto = None\n",
    "try:\n",
    "    # Preferred path for many versions: pass the tf.function + input_signature\n",
    "    proto, _ = tf2onnx.convert.from_function(\n",
    "        serving_fn,\n",
    "        input_signature=INPUT_SIG,\n",
    "        opset=13,\n",
    "        output_path=None\n",
    "    )\n",
    "except Exception as e1:\n",
    "    # Fallback: some builds accept a ConcreteFunction positional arg\n",
    "    concrete = serving_fn.get_concrete_function()\n",
    "    proto, _ = tf2onnx.convert.from_function(\n",
    "        concrete,\n",
    "        opset=13,\n",
    "        output_path=None\n",
    "    )\n",
    "\n",
    "onnx_bytes = proto.SerializeToString()\n",
    "print(f\"✅ ONNX ready, size {len(onnx_bytes):,} bytes\")\n",
    "\n",
    "onnx_key = \"models/mnist/model.onnx\"\n",
    "s3.put_object(Bucket=bucket, Key=onnx_key, Body=onnx_bytes, ContentType=\"application/octet-stream\")\n",
    "print(f\"📤 Uploaded: s3://{bucket}/{onnx_key}\")"
   ]
  },
  {
   "cell_type": "code",
   "execution_count": 12,
   "id": "e16e6bed-0bff-47a0-923a-dd675d3606f0",
   "metadata": {},
   "outputs": [
    {
     "name": "stdout",
     "output_type": "stream",
     "text": [
      "✅ Wrote mnist.keras\n",
      "📤 Uploaded: s3://mnist-ml/models/mnist/model.keras\n"
     ]
    }
   ],
   "source": [
    "import os, io, tempfile\n",
    "\n",
    "# 1) Save Keras native single-file format (.keras)\n",
    "keras_path = \"mnist.keras\"\n",
    "model.save(keras_path)  # Keras 3 native format (recommended single-file)\n",
    "print(f\"✅ Wrote {keras_path}\")\n",
    "\n",
    "keras_key = \"models/mnist/model.keras\"\n",
    "\n",
    "with open(keras_path, \"rb\") as f:\n",
    "    s3.put_object(\n",
    "        Bucket=bucket,\n",
    "        Key=keras_key,   # adjust path if you want versioning\n",
    "        Body=f.read(),\n",
    "        ContentType=\"application/octet-stream\",\n",
    "    )\n",
    "print(f\"📤 Uploaded: s3://{bucket}/{keras_key}\")"
   ]
  },
  {
   "cell_type": "code",
   "execution_count": 13,
   "id": "e8acb5fa-5c49-4009-969b-ee37724e86a2",
   "metadata": {},
   "outputs": [
    {
     "name": "stdout",
     "output_type": "stream",
     "text": [
      "models/mnist/model.keras\n",
      "models/mnist/model.onnx\n"
     ]
    }
   ],
   "source": [
    "# check model files are there\n",
    "resp = s3.list_objects_v2(Bucket=\"mnist-ml\", Prefix=\"models/mnist\")\n",
    "for o in resp.get(\"Contents\", []):\n",
    "    print(o[\"Key\"])"
   ]
  },
  {
   "cell_type": "code",
   "execution_count": null,
   "id": "054683a7-0e83-4bd7-a8f0-642a85fa6c2a",
   "metadata": {},
   "outputs": [],
   "source": []
  }
 ],
 "metadata": {
  "kernelspec": {
   "display_name": "Python 3.12",
   "language": "python",
   "name": "python3"
  },
  "language_info": {
   "codemirror_mode": {
    "name": "ipython",
    "version": 3
   },
   "file_extension": ".py",
   "mimetype": "text/x-python",
   "name": "python",
   "nbconvert_exporter": "python",
   "pygments_lexer": "ipython3",
   "version": "3.12.9"
  }
 },
 "nbformat": 4,
 "nbformat_minor": 5
}
